{
 "cells": [
  {
   "cell_type": "code",
   "execution_count": 1,
   "metadata": {},
   "outputs": [],
   "source": [
    "%load_ext autoreload\n",
    "%autoreload 2\n",
    "from RTKToArrayConversion import *\n",
    "from ExtendedConeBeamDCC import *\n",
    "from TextFileSaving import * "
   ]
  },
  {
   "cell_type": "code",
   "execution_count": 2,
   "metadata": {},
   "outputs": [
    {
     "name": "stdout",
     "output_type": "stream",
     "text": [
      "nproj = 49220\n",
      "itkSize3 ([920, 32, 49220])\n"
     ]
    }
   ],
   "source": [
    "filesdir_ref = \"/home/mmouchet/Documents/SIEMENSDATA/GO.SIM/3D_patients/CF82/donneesBrutes/respi_libre/\"\n",
    "# reading projections\n",
    "proj = itk.imread(filesdir_ref+\"corrected_proj.mha\")\n",
    "# Reading the geometry of the scanner\n",
    "xmlreader = rtk.ThreeDCircularProjectionGeometryXMLFileReader.New()\n",
    "xmlreader.SetFilename(filesdir_ref+'geometry.xml')\n",
    "# xmlreader.SetFilename(filesdir_ref+\"geometry.xml\")\n",
    "xmlreader.GenerateOutputInformation()\n",
    "geometry = xmlreader.GetOutputObject()\n",
    "print('nproj = %d'%(len(geometry.GetGantryAngles())))\n",
    "print(proj.GetLargestPossibleRegion().GetSize())"
   ]
  },
  {
   "cell_type": "code",
   "execution_count": 3,
   "metadata": {},
   "outputs": [
    {
     "name": "stdout",
     "output_type": "stream",
     "text": [
      "[array([1.02806101, 1.0947541 , 1.        ]), array([0., 0., 0.]), array([  920,    32, 49220]), array([[ 1.,  0.,  0.],\n",
      "       [ 0., -1.,  0.],\n",
      "       [ 0.,  0.,  1.]])]\n"
     ]
    }
   ],
   "source": [
    "#Convert to array for faster computation\n",
    "geometry_array = RTKtoNP(geometry)\n",
    "proj_array = itk.GetArrayFromImage(proj)\n",
    "proj_infos = GetProjectionInformations(proj)\n",
    "source_pos_array = GetSourcePositions(geometry)\n",
    "rotation_matrices_array = GetRotationMatrices(geometry)\n",
    "fixed_matrices_array = GetFixedSystemMatrices(geometry)\n",
    "print(proj_infos)"
   ]
  },
  {
   "cell_type": "code",
   "execution_count": 4,
   "metadata": {},
   "outputs": [
    {
     "name": "stdout",
     "output_type": "stream",
     "text": [
      "18055 46156\n",
      "[18055 18362 18669 18976 19283 19590 19897 20204 20511 20818 21125 21432\n",
      " 21739 22046 22353 22660 22967 23274 23581 23888 24195 24502 24809 25116\n",
      " 25423 25730 26037 26344 26651 26958 27265 27572 27879 28186 28493 28800\n",
      " 29107 29414 29721 30028 30335 30642 30949 31256 31563 31870 32177 32484\n",
      " 32791 33098 33405 33712 34019 34326 34633 34940 35247 35554 35861 36168\n",
      " 36475 36782 37089 37396 37703 38010 38317 38624 38931 39238 39545 39852\n",
      " 40159 40466 40773 41080 41387 41694 42001 42308 42615 42922 43229 43536\n",
      " 43843 44150 44457 44764 45071 45378 45685 45992] 92\n",
      "768\n"
     ]
    }
   ],
   "source": [
    "first_idx = np.where(geometry_array[8,:]>140)[0][-1]\n",
    "last_idx = np.where(geometry_array[8,:]>-140)[0][-1]\n",
    "print(first_idx, last_idx)\n",
    "T_rot = 0.5 #s\n",
    "T_step = 0.1 #s\n",
    "idx_proj_ref = np.arange(first_idx, last_idx, int((T_step*1536)//0.5))\n",
    "print(idx_proj_ref,len(idx_proj_ref))\n",
    "axial_limit =  int(1536*np.round((1-1/32)/0.8))//2\n",
    "print(axial_limit)"
   ]
  },
  {
   "cell_type": "code",
   "execution_count": 5,
   "metadata": {},
   "outputs": [
    {
     "name": "stderr",
     "output_type": "stream",
     "text": [
      "This function will be removed in tqdm==5.0.0\n",
      "Please use `tqdm.notebook.tqdm` instead of `tqdm.tqdm_notebook`\n"
     ]
    },
    {
     "data": {
      "application/vnd.jupyter.widget-view+json": {
       "model_id": "4fe793b606d04c929e104a384fabc985",
       "version_major": 2,
       "version_minor": 0
      },
      "text/plain": [
       "HBox(children=(FloatProgress(value=0.0, max=92.0), HTML(value='')))"
      ]
     },
     "metadata": {},
     "output_type": "display_data"
    },
    {
     "name": "stderr",
     "output_type": "stream",
     "text": [
      "invalid value encountered in double_scalars\n",
      "invalid value encountered in double_scalars\n"
     ]
    },
    {
     "name": "stdout",
     "output_type": "stream",
     "text": [
      "\n"
     ]
    }
   ],
   "source": [
    "from tqdm import tqdm_notebook\n",
    "res = []\n",
    "for ref in tqdm_notebook(idx_proj_ref):\n",
    "    res_temp = []\n",
    "    for i in range(-axial_limit, axial_limit):\n",
    "        if ref == i + ref or i + ref < 0 or i + ref >= len(geometry.GetGantryAngles()):\n",
    "            pass\n",
    "        else:\n",
    "            r = ComputeDCCsForOnePair(ref, i + ref, geometry_array, source_pos_array, rotation_matrices_array, fixed_matrices_array, proj_array, proj_infos)\n",
    "            if r !=0 :\n",
    "                res_temp.append(r)\n",
    "    res.append(np.mean(res_temp))"
   ]
  },
  {
   "cell_type": "code",
   "execution_count": 6,
   "metadata": {},
   "outputs": [
    {
     "data": {
      "image/png": "[encoded data removed]",
      "text/plain": [
       "<Figure size 432x288 with 1 Axes>"
      ]
     },
     "metadata": {
      "needs_background": "light"
     },
     "output_type": "display_data"
    }
   ],
   "source": [
    "import matplotlib.pyplot as plt\n",
    "plt.figure()\n",
    "plt.plot(geometry_array[8,idx_proj_ref], res)\n",
    "plt.xlabel(\"z (mm)\")\n",
    "plt.show()"
   ]
  },
  {
   "cell_type": "code",
   "execution_count": 7,
   "metadata": {},
   "outputs": [
    {
     "data": {
      "text/plain": [
       "0"
      ]
     },
     "execution_count": 7,
     "metadata": {},
     "output_type": "execute_result"
    }
   ],
   "source": [
    "## save res\n",
    "import csv\n",
    "def WriteErrorFile(FileName, abs, res):\n",
    "    with open(FileName, 'w') as csvfile:\n",
    "        fieldnames = ['abs','err']\n",
    "        writer = csv.DictWriter(csvfile, fieldnames=fieldnames)\n",
    "        writer.writeheader()\n",
    "        for i in range(len(res)):\n",
    "            writer.writerow({'abs': abs[i],'err': res[i]})\n",
    "    return 0\n",
    "\n",
    "\n",
    "WriteErrorFile(filesdir_ref+\"140_n140_Hann_Wover50.csv\", geometry_array[8,idx_proj_ref], res)\n"
   ]
  },
  {
   "cell_type": "code",
   "execution_count": null,
   "metadata": {},
   "outputs": [],
   "source": []
  }
 ],
 "metadata": {
  "kernelspec": {
   "display_name": "Python 3",
   "language": "python",
   "name": "python3"
  },
  "language_info": {
   "codemirror_mode": {
    "name": "ipython",
    "version": 3
   },
   "file_extension": ".py",
   "mimetype": "text/x-python",
   "name": "python",
   "nbconvert_exporter": "python",
   "pygments_lexer": "ipython3",
   "version": "3.7.4"
  }
 },
 "nbformat": 4,
 "nbformat_minor": 2
}
