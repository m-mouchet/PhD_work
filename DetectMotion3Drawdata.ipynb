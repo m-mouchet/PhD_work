{
 "cells": [
  {
   "cell_type": "code",
   "execution_count": null,
   "metadata": {},
   "outputs": [],
   "source": [
    "%load_ext autoreload\n",
    "%autoreload 2\n",
    "from RTKToArrayConversion import *\n",
    "from ExtendedConeBeamDCC import *\n",
    "from TextFileSaving2 import * \n",
    "from AllAcquisitionCDClass import *\n",
    "from tqdm import tqdm_notebook"
   ]
  },
  {
   "cell_type": "code",
   "execution_count": null,
   "metadata": {},
   "outputs": [],
   "source": [
    "filesdir_ref = \"/home/mmouchet/Documents/SIEMENSDATA/GO.SIM/phantom/14_01_22/4D/sans_table/donneesBrutes/P007_Trot035_Tresp0/\"\n",
    "# reading projections\n",
    "proj = itk.imread(filesdir_ref+\"sub36_proj_865_980.mha\")\n",
    "# Reading the geometry of the scanner\n",
    "xmlreader = rtk.ThreeDCircularProjectionGeometryXMLFileReader.New()\n",
    "xmlreader.SetFilename(filesdir_ref+'sub36_geometry_865_980.xml')\n",
    "# xmlreader.SetFilename(filesdir_ref+\"geometry.xml\")\n",
    "xmlreader.GenerateOutputInformation()\n",
    "geometry = xmlreader.GetOutputObject()\n",
    "print('nproj = %d'%(len(geometry.GetGantryAngles())))\n",
    "print(proj.GetLargestPossibleRegion().GetSize())"
   ]
  },
  {
   "cell_type": "code",
   "execution_count": null,
   "metadata": {},
   "outputs": [],
   "source": [
    "#Convert to array for faster computation\n",
    "geometry_array = RTKtoNP(geometry)\n",
    "proj_array = itk.GetArrayFromImage(proj)\n",
    "proj_infos = GetProjectionInformations(proj)\n",
    "source_pos_array = GetSourcePositions(geometry)\n",
    "rotation_matrices_array = GetRotationMatrices(geometry)\n",
    "fixed_matrices_array = GetFixedSystemMatrices(geometry)\n",
    "print(proj_infos)\n",
    "n_proj_per_rotation = np.where(geometry_array[2, :] == geometry_array[2, 0])[0][1] - np.where(geometry_array[2, :] == geometry_array[2, 0])[0][0]\n",
    "print(n_proj_per_rotation)"
   ]
  },
  {
   "cell_type": "code",
   "execution_count": null,
   "metadata": {},
   "outputs": [],
   "source": [
    "# first_idx = np.where(geometry_array[8,:]<-296)[0][0]\n",
    "# last_idx = np.where(geometry_array[8,:]>-395)[0][-1]\n",
    "# print(first_idx, last_idx)\n",
    "# T_rot = 0.35 #s\n",
    "# T_step = 0.1 #s\n",
    "# idx_proj_ref = np.arange(first_idx, last_idx)\n",
    "# idx_proj_ref = np.arange(proj_infos[2][2])\n",
    "idx_proj_ref = np.array(np.where(geometry_array[2, :] <= np.abs(geometry_array[2, 0]- geometry_array[2, 1]))[0])\n",
    "print(len(idx_proj_ref))\n",
    "# axial_limit =  int(100*np.round((1-1/32)/0.07))//2\n",
    "# print(axial_limit)"
   ]
  },
  {
   "cell_type": "code",
   "execution_count": null,
   "metadata": {},
   "outputs": [],
   "source": [
    "#compute dcc\n",
    "AcquiDCC = DCCOnCDinAnAcquisition(geometry_array, source_pos_array, rotation_matrices_array, fixed_matrices_array, proj_array, proj_infos)\n",
    "# import multiprocessing as mp\n",
    "# with mp.Pool(4) as pool:\n",
    "#     jobs = [pool.apply(ComputeDCCFromOneRef, args=(argument,)) for argument in zip(idx_proj_ref, [geometry_array]*len(idx_proj_ref), [source_pos_array]*len(idx_proj_ref), [rotation_matrices_array]*len(idx_proj_ref), [fixed_matrices_array]*len(idx_proj_ref), [proj_array]*len(idx_proj_ref), [proj_infos]*len(idx_proj_ref))]\n",
    "#     pool.close()\n",
    "#     res = []\n",
    "#     for job in tqdm_notebook(jobs):\n",
    "#         res.append(job.get())\n",
    "# from joblib import Parallel, delayed\n",
    "# import time\n",
    "# start = time.time()\n",
    "# res = Parallel(n_jobs=11, backend = \"multiprocessing\")(delayed(ComputeDCCFromOneRef)(ref, geometry_array, source_pos_array, rotation_matrices_array, fixed_matrices_array, proj_array, proj_infos) for ref in tqdm_notebook(idx_proj_ref))\n",
    "# print(time.time()-start)"
   ]
  },
  {
   "cell_type": "code",
   "execution_count": null,
   "metadata": {},
   "outputs": [],
   "source": [
    "# AcquiDCC.ComputeAllPossiblePairsForEachPos(idx_proj_ref, 'False')"
   ]
  },
  {
   "cell_type": "code",
   "execution_count": null,
   "metadata": {
    "scrolled": true
   },
   "outputs": [],
   "source": [
    "AcquiDCC.ComputeDCCForEachPosPara(idx_proj_ref, 'False')"
   ]
  },
  {
   "cell_type": "code",
   "execution_count": null,
   "metadata": {},
   "outputs": [],
   "source": [
    "import matplotlib.pyplot as plt\n",
    "from scipy import signal\n",
    "from scipy.fft import fft, fftfreq\n",
    "%matplotlib notebook\n",
    "def motion(t):\n",
    "    return 0.1608 + 0.936*np.cos(2*np.pi*t-np.pi) + 0.2808*np.cos(4*np.pi*t-3*np.pi/4) + 0.03744*np.cos(6*np.pi*t - np.pi/3) + 0.03744*np.cos(8*np.pi*t+np.pi/2) +0.013104*np.cos(10*np.pi*t+np.pi)\n",
    "\n",
    "# Fréquence d'échantillonnage\n",
    "fe = 72/0.5  # Hz\n",
    "# Fréquence de nyquist\n",
    "f_nyq = fe / 2.  # Hz\n",
    "# Fréquence de coupure\n",
    "fc = 0.025*fe  # Hz\n",
    "# Préparation du filtre de Butterworth en passe-bas\n",
    "b, a = signal.butter(4, fc/f_nyq, 'low', analog=False)\n",
    "\n",
    "\n",
    "# plt.figure()\n",
    "# plt.plot(AcquiDCC.res[44][1], AcquiDCC.res[44][2])\n",
    "# plt.show()\n",
    "\n",
    "# yf = fft([np.median(AcquiDCC.res[i]) for i in range(len(idx_proj_ref))])\n",
    "# xf = fftfreq(len(idx_proj_ref), 0.5/36)[:len(idx_proj_ref)//2]\n",
    "# plt.figure()\n",
    "# plt.plot(xf, 2.0/len(idx_proj_ref) * np.abs(yf[0:len(idx_proj_ref)//2]))\n",
    "# plt.grid()\n",
    "# # plt.xlabel(\"Frequency (Hz)\")\n",
    "# # plt.ylabel(\"F(Med(E))\")\n",
    "# plt.show()"
   ]
  },
  {
   "cell_type": "code",
   "execution_count": null,
   "metadata": {},
   "outputs": [],
   "source": [
    "savedir = \"/home/mmouchet/Documents/SIEMENSDATA/GO.SIM/phantom/14_01_22/4D/sans_table/donneesBrutes/P007_Trot035_Tresp4/\"\n",
    "WriteAllPairsErrorsFile(savedir + \"Tresp4_sub36_angle0\", AcquiDCC.res)"
   ]
  },
  {
   "cell_type": "code",
   "execution_count": null,
   "metadata": {},
   "outputs": [],
   "source": [
    "ref, idx, mom0, mom1 = ReadAllPairsErrorsFile(savedir + \"Tresp4_sub36_angle0\")"
   ]
  },
  {
   "cell_type": "code",
   "execution_count": null,
   "metadata": {},
   "outputs": [],
   "source": []
  },
  {
   "cell_type": "code",
   "execution_count": null,
   "metadata": {},
   "outputs": [],
   "source": [
    "\n",
    "savedir = \"/home/mmouchet/Documents/SIEMENSDATA/GO.SIM/phantom/14_12_21/3D/stats_report/\"\n",
    "\n",
    "refs_ib, res_ib = ReadAllPairsErrorsFile(savedir + \"ib_sub72_n380_n250_ad_HannWover10\")\n",
    "refs_rl, res_rl = ReadAllPairsErrorsFile(savedir + \"ib_corr_sub72_n380_n250_ad_HannWover10\")\n",
    "\n",
    "%matplotlib notebook\n",
    "\n",
    "plt.figure()\n",
    "plt.plot(geometry_array[8,refs_ib], [np.median(res_ib[i]) for i in range(len(refs_ib))], linewidth=0.5, label = \"original sinogram\")\n",
    "# # Fréquence d'échantillonnage\n",
    "# fe = 360/0.5  # Hz\n",
    "# # Fréquence de nyquist\n",
    "# f_nyq = fe / 2.  # Hz\n",
    "# # Fréquence de coupure\n",
    "# fc = 0.025*fe  # Hz\n",
    "# # Préparation du filtre de Butterworth en passe-bas\n",
    "# b, a = signal.butter(4, fc/f_nyq, 'low', analog=False)\n",
    "# plt.plot(refs_ib*0.5/360,signal.filtfilt(b, a, [np.median(res_ib[i]) for i in range(len(refs_ib))]),'k')\n",
    "plt.plot(geometry_array[8,refs_rl], [np.median(res_rl[i]) for i in range(len(refs_rl))], linewidth=0.5, label = \"corrected sinogram\")\n",
    "# # Fréquence d'échantillonnage\n",
    "# fe = 360/0.5  # Hz\n",
    "# # Fréquence de nyquist\n",
    "# f_nyq = fe / 2.  # Hz\n",
    "# # Fréquence de coupure\n",
    "# fc = 0.025*fe  # Hz\n",
    "# # Préparation du filtre de Butterworth en passe-bas\n",
    "# b, a = signal.butter(4, fc/f_nyq, 'low', analog=False)\n",
    "# plt.plot(refs_rl*0.5/360,signal.filtfilt(b, a, [np.median(res_rl[i]) for i in range(len(refs_rl))]),'g')\n",
    "plt.xlabel(\"z(mm)\")\n",
    "plt.ylabel(\"Med(E)\")\n",
    "plt.legend()\n",
    "plt.show()\n",
    "\n",
    "# proj_ar = itk.GetArrayFromImage(proj)\n",
    "\n",
    "# plt.figure()\n",
    "# plt.imshow(proj_ar[109:721,16,:].T, cmap='gray', origin = \"lower\",extent=(geometry_array[8,refs_rl[-1]],geometry_array[8,refs_rl[0]],AcquiDCC.gamma[0]*180/np.pi,AcquiDCC.gamma[-1]*180/np.pi))\n",
    "# plt.ylabel(\"Fan angle (°)\")\n",
    "# plt.xlabel(\"z(mm)\")\n",
    "# ax = plt.twinx()\n",
    "# ax.plot(geometry_array[8,refs_rl],[np.median(res_ib[i]) for i in range(len(refs_ib))],'r',linewidth = 0.5, label = \"Med(E)\")\n",
    "# plt.legend()\n",
    "# plt.ylabel(\"Med(E)\")\n",
    "# plt.show()"
   ]
  },
  {
   "cell_type": "code",
   "execution_count": null,
   "metadata": {},
   "outputs": [],
   "source": [
    "# Read all pair moments\n",
    "refs, res_4D = ReadAllPairsErrorsFile(\"/home/mmouchet/PycharmProjects/4D_study/bpm_12/stats_bpm12/apm_bpm12_Hann_Wover5_AbsDiff.csv\")\n",
    "plt.figure()\n",
    "plt.plot(refs*0.35/36, [np.median(res_4D[i]) for i in range(len(refs))])\n",
    "s_but = signal.filtfilt(b, a, [np.median(res_4D[i]) for i in range(len(refs))])\n",
    "plt.plot(refs*0.35/36, s_but)\n",
    "plt.ylabel(\"Med(E)\")\n",
    "plt.xlabel(\"Time (s)\")\n",
    "ax = plt.twinx()\n",
    "ax.plot(refs*0.35/36, np.abs(motion(refs/514)), color = 'red', label = 'breathing motion')\n",
    "# ax.plot(refs*0.35/36, np.abs(np.gradient(motion(refs/514))),'r', label = 'breathing motion gradient')\n",
    "ax.legend(loc=\"upper right\")\n",
    "plt.yticks([])\n",
    "# ax.plot(np.arange(len(idx_proj_ref))*0.5/36, geometry_array[2,idx_proj_ref]*180/np.pi, 'r--')\n",
    "plt.show()\n",
    "\n",
    "yf = fft([np.median(res_4D[i]) for i in range(len(refs))])\n",
    "xf = fftfreq(len(refs), 0.35/36)[:len(refs)//2]\n",
    "plt.figure()\n",
    "plt.plot(xf, 2.0/len(refs) * np.abs(yf[0:len(refs)//2]))\n",
    "plt.grid()\n",
    "# plt.xlabel(\"Frequency (Hz)\")\n",
    "# plt.ylabel(\"F(Med(E))\")\n",
    "plt.show()"
   ]
  },
  {
   "cell_type": "code",
   "execution_count": null,
   "metadata": {},
   "outputs": [],
   "source": [
    "# Read all pair moments\n",
    "refs, res_4D = ReadAllPairsErrorsFile(\"/home/mmouchet/PycharmProjects/4D_study/bpm_12/stats_bpm12/apm_bpm12_Hann_Wover5_Diff.csv\")\n",
    "plt.figure()\n",
    "# off =  int(1.2*36/0.35)\n",
    "# [len(res_4D[i])//2-off:len(res_4D[i])//2+off]\n",
    "plt.plot(refs*0.35/36, [np.median(res_4D[i]) for i in range(len(refs))])\n",
    "s_but = signal.filtfilt(b, a, [np.median(res_4D[i]) for i in range(len(refs))])\n",
    "plt.plot(refs*0.35/36, s_but)\n",
    "plt.ylabel(\"Med(E)\")\n",
    "plt.xlabel(\"Time (s)\")\n",
    "ax = plt.twinx()\n",
    "ax.plot(refs*0.35/36, -motion(refs/514), color = 'red', label = 'breathing motion')\n",
    "# ax.plot(refs*0.35/36, np.gradient(motion(refs/514)),'r', label = 'breathing motion gradient')\n",
    "ax.legend(loc=\"upper right\")\n",
    "plt.yticks([])\n",
    "# ax.plot(np.arange(len(idx_proj_ref))*0.5/36, geometry_array[2,idx_proj_ref]*180/np.pi, 'r--')\n",
    "plt.show()\n",
    "\n",
    "yf = fft([np.median(res_4D[i]) for i in range(len(refs))])\n",
    "xf = fftfreq(len(refs), 0.35/36)[:len(refs)//2]\n",
    "plt.figure()\n",
    "plt.plot(xf, 2.0/len(refs) * np.abs(yf[0:len(refs)//2]))\n",
    "plt.grid()\n",
    "# plt.xlabel(\"Frequency (Hz)\")\n",
    "# plt.ylabel(\"F(Med(E))\")\n",
    "plt.show()"
   ]
  },
  {
   "cell_type": "code",
   "execution_count": null,
   "metadata": {},
   "outputs": [],
   "source": []
  }
 ],
 "metadata": {
  "kernelspec": {
   "display_name": "Python 3",
   "language": "python",
   "name": "python3"
  },
  "language_info": {
   "codemirror_mode": {
    "name": "ipython",
    "version": 3
   },
   "file_extension": ".py",
   "mimetype": "text/x-python",
   "name": "python",
   "nbconvert_exporter": "python",
   "pygments_lexer": "ipython3",
   "version": "3.7.4"
  }
 },
 "nbformat": 4,
 "nbformat_minor": 2
}
