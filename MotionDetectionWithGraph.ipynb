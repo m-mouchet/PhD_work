{
 "cells": [
  {
   "cell_type": "code",
   "execution_count": null,
   "metadata": {},
   "outputs": [],
   "source": [
    "%load_ext autoreload\n",
    "%autoreload 2\n",
    "from RTKToArrayConversion import *\n",
    "from ExtendedConeBeamDCC import *\n",
    "from ConeBeamDCCWithBackprojectionPlane import *\n",
    "from AllAcquisitionClass import *"
   ]
  },
  {
   "cell_type": "code",
   "execution_count": null,
   "metadata": {},
   "outputs": [],
   "source": [
    "filesdir_ref = \"\"\n",
    "# reading projections\n",
    "proj = itk.imread(filesdir_ref+\"sub_corrected_proj.mha\")\n",
    "# Reading the geometry of the scanner\n",
    "xmlreader = rtk.ThreeDCircularProjectionGeometryXMLFileReader.New()\n",
    "xmlreader.SetFilename(filesdir_ref+'sub_geometry.xml')\n",
    "# xmlreader.SetFilename(filesdir_ref+\"geometry.xml\")\n",
    "xmlreader.GenerateOutputInformation()\n",
    "geometry = xmlreader.GetOutputObject()\n",
    "print('nproj = %d'%(len(geometry.GetGantryAngles())))\n",
    "print(proj.GetLargestPossibleRegion().GetSize())"
   ]
  },
  {
   "cell_type": "code",
   "execution_count": null,
   "metadata": {},
   "outputs": [],
   "source": [
    "geometry_array = RTKtoNP(geometry)\n",
    "proj_array = itk.GetArrayFromImage(proj)\n",
    "proj_infos = GetProjectionInformations(proj)\n",
    "source_pos_array = GetSourcePositions(geometry)\n",
    "rotation_matrices_array = GetRotationMatrices(geometry)\n",
    "fixed_matrices_array = GetFixedSystemMatrices(geometry)\n",
    "print(proj_infos)\n",
    "\n",
    "AcquiDCC = DCCWithBPinAnAcquisition(geometry_array, source_pos_array, rotation_matrices_array, fixed_matrices_array, proj_array, proj_infos)\n",
    "AcquiDCC.ComputeAllPossiblePairs()"
   ]
  },
  {
   "cell_type": "code",
   "execution_count": null,
   "metadata": {},
   "outputs": [],
   "source": [
    "# Fonction non parallélisée \n",
    "# AcquiDCC.ComputeDCCForAllPairs()\n",
    "\n",
    "AcquiDCC.ComputeDCCForAllPairsPara()\n",
    "#AcquiDCC.pairs"
   ]
  },
  {
   "cell_type": "code",
   "execution_count": null,
   "metadata": {},
   "outputs": [],
   "source": [
    "import networkx as nx\n",
    "G = nx.Graph()\n",
    "G.add_nodes_from(range(AcquiDCC.n_proj))\n",
    "G.add_weighted_edges_from(AcquiDCC.pairs)\n",
    "print(G.number_of_nodes(), G.number_of_edges())\n",
    "length, path = nx.single_source_dijkstra(G, 0)"
   ]
  },
  {
   "cell_type": "code",
   "execution_count": null,
   "metadata": {},
   "outputs": [],
   "source": [
    "import matplotlib.pyplot as plt\n",
    "plt.figure()\n",
    "plt.plot(geometry_array[8, :],[length[i] for i in range(AcquiDCC.n_proj)])\n",
    "plt.show()"
   ]
  },
  {
   "cell_type": "code",
   "execution_count": null,
   "metadata": {},
   "outputs": [],
   "source": []
  }
 ],
 "metadata": {
  "kernelspec": {
   "display_name": "Python 3",
   "language": "python",
   "name": "python3"
  },
  "language_info": {
   "codemirror_mode": {
    "name": "ipython",
    "version": 3
   },
   "file_extension": ".py",
   "mimetype": "text/x-python",
   "name": "python",
   "nbconvert_exporter": "python",
   "pygments_lexer": "ipython3",
   "version": "3.7.4"
  }
 },
 "nbformat": 4,
 "nbformat_minor": 2
}
