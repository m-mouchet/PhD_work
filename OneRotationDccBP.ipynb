{
 "cells": [
  {
   "cell_type": "code",
   "execution_count": 1,
   "metadata": {},
   "outputs": [
    {
     "data": {
      "text/html": [
       "<style>.container { width:100% !important; }</style>"
      ],
      "text/plain": [
       "<IPython.core.display.HTML object>"
      ]
     },
     "metadata": {},
     "output_type": "display_data"
    }
   ],
   "source": [
    "from IPython.core.display import display, HTML\n",
    "display(HTML(\"<style>.container { width:100% !important; }</style>\"))"
   ]
  },
  {
   "cell_type": "code",
   "execution_count": 2,
   "metadata": {},
   "outputs": [],
   "source": [
    "%load_ext autoreload\n",
    "%autoreload 2\n",
    "from RTKToArrayConversion import *\n",
    "from ConeBeamDCCWithBackprojectionPlane import *\n",
    "from AllAcquisitionBPClass import *\n",
    "from TextFileSaving import *\n",
    "\n",
    "def moving_average(x, y, w):\n",
    "    ma = np.zeros(x.shape)\n",
    "    weights = np.zeros(x.shape)\n",
    "    for i in range(x.shape[0]):\n",
    "#         print(len(np.where(np.abs(x-x[i]) <= w//2)[0]))\n",
    "        ma[i] += np.mean(y[np.where(np.abs(x-x[i]) <= w//2)])\n",
    "#         weights[i] += len(np.where(np.abs(x-x[i]) <= w//2)[0])\n",
    "    return ma"
   ]
  },
  {
   "cell_type": "code",
   "execution_count": 3,
   "metadata": {},
   "outputs": [
    {
     "name": "stdout",
     "output_type": "stream",
     "text": [
      "nproj = 74588\n",
      "itkSize3 ([920, 32, 74588])\n"
     ]
    }
   ],
   "source": [
    "filesdir_ref = \"/home/mmouchet/Documents/SIEMENSDATA/GO.SIM/phantom/14_01_22/4D/sans_table/donneesBrutes/P007_Trot035_Tresp0/\"\n",
    "# reading projections\n",
    "proj = itk.imread(filesdir_ref+\"proj_874_958.mha\")\n",
    "# Reading the geometry of the scanner\n",
    "xmlreader = rtk.ThreeDCircularProjectionGeometryXMLFileReader.New()\n",
    "xmlreader.SetFilename(filesdir_ref+'geometry_874_958.xml')\n",
    "# xmlreader.SetFilename(filesdir_ref+\"geometry.xml\")\n",
    "xmlreader.GenerateOutputInformation()\n",
    "geometry = xmlreader.GetOutputObject()\n",
    "print('nproj = %d'%(len(geometry.GetGantryAngles())))\n",
    "print(proj.GetLargestPossibleRegion().GetSize())"
   ]
  },
  {
   "cell_type": "code",
   "execution_count": 4,
   "metadata": {},
   "outputs": [],
   "source": [
    "# shrinkage\n",
    "# ImageType = itk.Image[itk.F,3]\n",
    "# rebin = itk.BinShrinkImageFilterrespi_libre[ImageType,ImageType].New()\n",
    "# rebin.SetInput(proj)\n",
    "# rebin.SetShrinkFactor(0,10)\n",
    "# rebin.Update()\n",
    "# proj_rebin = rebin.GetOutput()\n",
    "# itk.imwrite(proj_rebin,filesdir_ref + 'projections_thorax_360_2rot_920x1028_shrink10_a160.mha')\n",
    "# print(proj_rebin.GetSpacing())\n",
    "\n",
    "# I0=10**5\n",
    "# dH2O=0.01879 #mm^-1 at 75 keV\n",
    "# if I0!=0:\n",
    "#     new_sino = I0*np.exp(-1.*dH2O*itk.GetArrayFromImage(proj_rebin))\n",
    "#     new_sino = np.maximum(np.random.poisson(new_sino), 1)\n",
    "#     new_sino = np.log(I0/new_sino)/dH2O\n",
    "#     proj_rebin_n = itk.GetImageFromArray(new_sino.astype(np.float32))\n",
    "#     proj_rebin_n.CopyInformation(proj_rebin)\n",
    "#     proj_rebin_n.Update()\n",
    "#     itk.imwrite(proj_rebin_n,filesdir_ref + 'projections_thorax_360_2rot_920x1028_shrink10_a160_noise.mha') "
   ]
  },
  {
   "cell_type": "code",
   "execution_count": 5,
   "metadata": {},
   "outputs": [
    {
     "name": "stdout",
     "output_type": "stream",
     "text": [
      "[array([1.02806101, 1.0947541 , 1.        ]), array([0., 0., 0.]), array([  920,    32, 74588]), array([[ 1.,  0.,  0.],\n",
      "       [ 0., -1.,  0.],\n",
      "       [ 0.,  0.,  1.]])]\n"
     ]
    }
   ],
   "source": [
    "#Convert to array for faster computation\n",
    "geometry_array = RTKtoNP(geometry)\n",
    "proj_array = itk.GetArrayFromImage(proj)\n",
    "proj_infos = GetProjectionInformations(proj)\n",
    "source_pos_array = GetSourcePositions(geometry)\n",
    "rotation_matrices_array = GetRotationMatrices(geometry)\n",
    "fixed_matrices_array = GetFixedSystemMatrices(geometry)\n",
    "print(proj_infos)\n",
    "AcquiDCC = DCCWithBPinAnAcquisition(geometry_array, source_pos_array, rotation_matrices_array, fixed_matrices_array, proj_array, proj_infos)"
   ]
  },
  {
   "cell_type": "code",
   "execution_count": 6,
   "metadata": {},
   "outputs": [
    {
     "name": "stdout",
     "output_type": "stream",
     "text": [
      "957.98 916.03\n"
     ]
    },
    {
     "name": "stderr",
     "output_type": "stream",
     "text": [
      "This function will be removed in tqdm==5.0.0\n",
      "Please use `tqdm.notebook.tqdm` instead of `tqdm.tqdm_notebook`\n"
     ]
    },
    {
     "data": {
      "application/vnd.jupyter.widget-view+json": {
       "model_id": "1db35df292dc4a73abd396fe022efb02",
       "version_major": 2,
       "version_minor": 0
      },
      "text/plain": [
       "HBox(children=(FloatProgress(value=0.0, max=2304.0), HTML(value='')))"
      ]
     },
     "metadata": {},
     "output_type": "display_data"
    },
    {
     "name": "stdout",
     "output_type": "stream",
     "text": [
      "\n"
     ]
    }
   ],
   "source": [
    "from joblib import Parallel, delayed\n",
    "from tqdm import tqdm_notebook\n",
    "import time\n",
    "\n",
    "ref = 37294\n",
    "print(geometry_array[8,0],geometry_array[8, ref])\n",
    "N = AcquiDCC.axial_limit\n",
    "# N = 420\n",
    "res = []\n",
    "idx = []\n",
    "times = []\n",
    "\n",
    "for i in tqdm_notebook(range(-AcquiDCC.n_proj_per_rotation,AcquiDCC.n_proj_per_rotation)):\n",
    "    if ref == i+ref or i+ref <0 or i+ref >= proj_infos[2][2] or np.abs(geometry_array[2, ref]-geometry_array[2, ref+i]) <10**(-12):\n",
    "        pass\n",
    "    elif AcquiDCC.CheckPairGeometry(ref, i+ref) != 0 :\n",
    "        g0 = NPtoRTK(AcquiDCC.geometry, ref)\n",
    "        g1 = NPtoRTK(AcquiDCC.geometry, i+ref)\n",
    "        p0 = ARRAYtoRTK(AcquiDCC.projections, AcquiDCC.proj_spacing, AcquiDCC.proj_origin, AcquiDCC.proj_size, AcquiDCC.proj_direction, ref)\n",
    "        p1 = ARRAYtoRTK(AcquiDCC.projections, AcquiDCC.proj_spacing, AcquiDCC.proj_origin, AcquiDCC.proj_size, AcquiDCC.proj_direction, i+ref)\n",
    "#         start = time.time()\n",
    "        pair_bp = ProjectionsPairBP(ref, i+ref, g0, g1, p0, p1, AcquiDCC.spiral_dir)\n",
    "        pair_bp.LinesMomentsCorners()\n",
    "#         end = time.time()-start\n",
    "        idx.append(i+ref)\n",
    "        res.append([pair_bp.m0, pair_bp.m1])\n",
    "#         times.append(end)\n",
    "# len(times), np.mean(times), np.std(times)  "
   ]
  },
  {
   "cell_type": "code",
   "execution_count": 7,
   "metadata": {},
   "outputs": [
    {
     "data": {
      "image/png": "[encoded data removed]",
      "text/plain": [
       "<Figure size 432x288 with 1 Axes>"
      ]
     },
     "metadata": {
      "needs_background": "light"
     },
     "output_type": "display_data"
    }
   ],
   "source": [
    "plt.figure()\n",
    "plt.plot(idx,[np.mean(res[i][0])-np.mean(res[i][1]) for i in range(len(idx))], '.')\n",
    "plt.show()"
   ]
  },
  {
   "cell_type": "code",
   "execution_count": 8,
   "metadata": {},
   "outputs": [
    {
     "data": {
      "text/plain": [
       "0"
      ]
     },
     "execution_count": 8,
     "metadata": {},
     "output_type": "execute_result"
    }
   ],
   "source": [
    "savedir = \"/home/mmouchet/Documents/Report/thesis/simu/mechanical_phantom/\"\n",
    "WriteBPMomentsFile(savedir+\"Tresp0_proj37294_rot_BP\",idx,res)"
   ]
  },
  {
   "cell_type": "code",
   "execution_count": null,
   "metadata": {
    "scrolled": false
   },
   "outputs": [],
   "source": [
    "import matplotlib.pyplot as plt\n",
    "%matplotlib notebook\n",
    "# plot results\n",
    "def motion(t):\n",
    "    return 0.1608 + 0.936*np.cos(2*np.pi*t-np.pi) + 0.2808*np.cos(4*np.pi*t-3*np.pi/4) + 0.03744*np.cos(6*np.pi*t - np.pi/3) + 0.03744*np.cos(8*np.pi*t+np.pi/2) +0.013104*np.cos(10*np.pi*t+np.pi)\n",
    "\n",
    "\n",
    "# plt.figure()\n",
    "# plt.title(r\"Moments absolute difference with ref at $z$ = %.2f mm\" %(geometry_array[8, ref]))\n",
    "# plt.plot(geometry_array[8, idx], [np.sum(np.abs(res[i][0] - res[i][1]))/len(res[i][0]) for i in range(len(res))],'+')\n",
    "# # plt.plot(geometry_array[8, idx], moving_average(np.array(idx),np.array([np.sum(np.abs(res[i][0] - res[i][1]))/len(res[i][0]) for i in range(len(res))]),AcquiDCC.n_proj_per_rotation))\n",
    "# plt.xlabel(r\"$z(mm)$\")\n",
    "# plt.ylabel(r\"$\\frac{1}{K} \\sum_k |M_k(\\lambda)-M_k(\\lambda')|$\")\n",
    "# plt.axhline(y=0, color='k', linewidth=0.5)\n",
    "# plt.show()\n",
    "\n",
    "plt.figure()\n",
    "plt.title(r\"Moments absolute difference with ref at $z$ = %.2f mm\" %(geometry_array[8, ref]))\n",
    "plt.plot(np.array(idx), [np.sum((res[i][0] - res[i][1]))/len(res[i][0]) for i in range(len(res))])\n",
    "plt.plot(np.array(idx), moving_average(np.array(idx),np.array([np.sum((res[i][0] - res[i][1]))/len(res[i][0]) for i in range(len(res))]),AcquiDCC.n_proj_per_rotation))\n",
    "plt.xlabel(r\"$z(mm)$\")\n",
    "plt.ylabel(r\"$\\frac{1}{K} \\sum_k |M_k(\\lambda)-M_k(\\lambda')|$\")\n",
    "plt.axhline(y=0, color='k', linewidth=0.5)\n",
    "plt.show()\n",
    "\n",
    "# plt.figure()\n",
    "# plt.plot(np.array(idx),geometry_array[2,idx]%np.pi,'+')\n",
    "# plt.show()\n",
    "\n"
   ]
  },
  {
   "cell_type": "code",
   "execution_count": null,
   "metadata": {},
   "outputs": [],
   "source": [
    "savedir = \"/home/mmouchet/Documents/SIEMENSDATA/GO.SIM/phantom/14_12_21/4D/stats_report2/\"\n",
    "# savedir = \"/home/mmouchet/PycharmProjects/4D_study/bpm_12/\"\n",
    "WriteMomentsFile(savedir+\"Tresp4_sub288_corr_on29001_n33199_proj9322_BP_FOV\",idx,res)\n",
    "\n",
    "\n"
   ]
  },
  {
   "cell_type": "code",
   "execution_count": null,
   "metadata": {},
   "outputs": [],
   "source": [
    "%matplotlib notebook\n",
    "savedir = \"/home/mmouchet/Documents/SIEMENSDATA/GO.SIM/phantom/14_12_21/4D/stats_report2/\"\n",
    "#ib\n",
    "idx0, ib0 = ReadMoments(savedir+\"Tresp0_sub288_corr_on29001_n31704_proj6000_HannWover10\")\n",
    "idx1, ib1 = ReadMoments(savedir+\"Tresp0_sub288_corr_on29001_n31704_proj6000_BP\")\n",
    "# idx2, ib2 = ReadMoments(savedir+\"Tresp0_sub288_corr_on29001_n31704_proj6000_HannWover10\")\n",
    "# idx3, ib3 = ReadMoments(savedir+\"Tresp4_sub288_corr_on29001_n29001_proj0_HannWover10\")\n",
    "# idx4, ib4 = ReadMoments(savedir+\"Tresp4_sub288_corr_on29001_n30349_proj3000_HannWover10\")\n",
    "# idx5, ib5 = ReadMoments(savedir+\"Tresp4_sub288_corr_on29001_n31704_proj6000_HannWover10\")\n",
    "\n",
    "ma0 = moving_average(idx0, np.array([np.sum((ib0[0][i]-ib0[1][i]))/len(ib0[0][i]) for i in range(len(ib0[0]))]), 288) \n",
    "ma1 = moving_average(idx1, np.array([np.sum((ib1[0][i]-ib1[1][i]))/len(ib1[0][i]) for i in range(len(ib1[0]))]), 288)\n",
    "# ma2 = moving_average(idx2, np.array([np.sum((ib2[0][i]-ib2[1][i]))/len(ib2[0][i]) for i in range(len(ib2[0]))]), 288)\n",
    "# ma3 = moving_average(idx3, np.array([np.sum((ib3[0][i]-ib3[1][i]))/len(ib3[0][i]) for i in range(len(ib3[0]))]), 288) \n",
    "# ma4 = moving_average(idx4, np.array([np.sum((ib4[0][i]-ib4[1][i]))/len(ib4[0][i]) for i in range(len(ib4[0]))]), 288)\n",
    "# ma5 = moving_average(idx5, np.array([np.sum((ib5[0][i]-ib5[1][i]))/len(ib5[0][i]) for i in range(len(ib5[0]))]), 288)\n",
    "\n",
    "\n",
    "plt.figure()\n",
    "plt.title(\"Detection of motion from z=-332.09 mm\")\n",
    "plt.subplot(211)\n",
    "plt.plot(idx0, [np.sum((ib0[0][i]-ib0[1][i]))/len(ib0[0][i]) for i in range(len(ib0[0]))], linewidth = 1, label = \"0\")\n",
    "plt.plot(idx1, [np.sum((ib1[0][i]-ib1[1][i]))/len(ib1[0][i]) for i in range(len(ib1[0]))], linewidth = 0.5,label = \"3000\")\n",
    "# plt.plot(idx2, [np.sum((ib2[0][i]-ib2[1][i]))/len(ib2[0][i]) for i in range(len(ib2[0]))], linewidth = 0.5,label = \"6000\")\n",
    "# plt.plot(idx3, [np.sum((ib3[0][i]-ib3[1][i]))/len(ib3[0][i]) for i in range(len(ib3[0]))], linewidth = 1, label = \"0\")\n",
    "# plt.plot(idx4, [np.sum((ib4[0][i]-ib4[1][i]))/len(ib4[0][i]) for i in range(len(ib4[0]))], linewidth = 0.5,label = \"3000\")\n",
    "# plt.plot(idx5, [np.sum((ib5[0][i]-ib5[1][i]))/len(ib5[0][i]) for i in range(len(ib5[0]))], linewidth = 0.5,label = \"6000\")\n",
    "plt.axhline(y=0, color='k', linewidth=0.5)\n",
    "plt.xlabel(r\"$t(s)$\")\n",
    "plt.xlabel(r\"$z(mm)$\")\n",
    "# plt.xticks([])\n",
    "plt.ylabel(r\"$\\frac{1}{K} \\sum_k |M_k(\\lambda)-M_k(\\lambda')|$\")\n",
    "plt.legend()\n",
    "plt.subplot(212)\n",
    "plt.plot(idx0*0.35/288, ma0, linewidth = 1, label = \"0\")\n",
    "plt.plot(idx1*0.35/288, ma1, linewidth = 1, label = \"3000\")\n",
    "# plt.plot(idx2, ma2, linewidth = 1, label = \"6000\")\n",
    "# plt.plot(idx3, ma3, linewidth = 1, label = \"0\")\n",
    "# plt.plot(idx4, ma4, linewidth = 1, label = \"3000\")\n",
    "# plt.plot(idx5, ma5, linewidth = 1, label = \"6000\")\n",
    "plt.legend()\n",
    "plt.ylabel(\"Moving average\")\n",
    "plt.xlabel(r\"$z(mm)$\")\n",
    "plt.axhline(y=0, color='k', linewidth=0.5)\n",
    "# plt.subplot(313)\n",
    "# plt.plot(-idx0*AcquiDCC.d/1536-226.51, w0, linewidth = 1, label = \"static\")\n",
    "# plt.plot(-idx1*AcquiDCC.d/1536-226.51, w1, linewidth = 1, label = \"breathing\")\n",
    "plt.show()\n"
   ]
  },
  {
   "cell_type": "code",
   "execution_count": null,
   "metadata": {},
   "outputs": [],
   "source": [
    "# proj_ar = itk.GetArrayFromImage(proj)\n",
    "\n",
    "# plt.figure()\n",
    "# plt.imshow(proj_ar[:3640,16,:],cmap=\"gray\",origin='lower')\n",
    "# plt.show()\n",
    "\n",
    "# plt.figure()\n",
    "# plt.plot(np.sum(np.sum(proj_ar[:3640,:,:],axis=1),axis=1))\n",
    "# plt.show()"
   ]
  },
  {
   "cell_type": "code",
   "execution_count": null,
   "metadata": {},
   "outputs": [],
   "source": [
    "%matplotlib notebook\n",
    "savedir = \"/home/mmouchet/Documents/SIEMENSDATA/GO.SIM/phantom/14_12_21/4D/stats_1rot/\"\n",
    "stat_4D = ReadMoments(savedir+\"Tesp0_sub72_2329_HannWover10\")\n",
    "breath_4D = ReadMoments(savedir+\"Tesp4_sub72_2329_HannWover10\")\n",
    "\n",
    "plt.figure()\n",
    "plt.plot(np.arange(len(stat_4D[0]))*0.35/72, [np.sum(((stat_4D[0][i] - stat_4D[1][i])))/len(stat_4D[0][i]) for i in range(len(stat_4D[0]))], linewidth=0.5, label = \"static\")\n",
    "plt.plot(np.arange(len(breath_4D[0]))*0.35/72, [np.sum(((breath_4D[0][i] - breath_4D[1][i])))/len(breath_4D[0][i]) for i in range(len(breath_4D[0]))], linewidth=0.5, label = \"breathin\")\n",
    "plt.axhline(y=0, color='k', linewidth = 0.5)\n",
    "plt.legend()\n",
    "plt.show()"
   ]
  },
  {
   "cell_type": "code",
   "execution_count": null,
   "metadata": {},
   "outputs": [],
   "source": []
  }
 ],
 "metadata": {
  "kernelspec": {
   "display_name": "Python 3",
   "language": "python",
   "name": "python3"
  },
  "language_info": {
   "codemirror_mode": {
    "name": "ipython",
    "version": 3
   },
   "file_extension": ".py",
   "mimetype": "text/x-python",
   "name": "python",
   "nbconvert_exporter": "python",
   "pygments_lexer": "ipython3",
   "version": "3.7.4"
  }
 },
 "nbformat": 4,
 "nbformat_minor": 2
}
